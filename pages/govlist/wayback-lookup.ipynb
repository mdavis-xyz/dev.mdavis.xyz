{
 "cells": [
  {
   "cell_type": "code",
   "execution_count": 3,
   "id": "34b7a2c2-26be-45d4-b2ea-f3e20e9c103a",
   "metadata": {},
   "outputs": [
    {
     "name": "stdout",
     "output_type": "stream",
     "text": [
      "/usr/lib/python3/dist-packages/secretstorage/dhcrypto.py:15: CryptographyDeprecationWarning: int_from_bytes is deprecated, use int.from_bytes instead\n",
      "  from cryptography.utils import int_from_bytes\n",
      "/usr/lib/python3/dist-packages/secretstorage/util.py:19: CryptographyDeprecationWarning: int_from_bytes is deprecated, use int.from_bytes instead\n",
      "  from cryptography.utils import int_from_bytes\n",
      "Collecting wayback\n",
      "  Using cached wayback-0.3.2-py3-none-any.whl (31 kB)\n",
      "Requirement already satisfied: requests in /home/matthew/.local/lib/python3.8/site-packages (from wayback) (2.26.0)\n",
      "Requirement already satisfied: urllib3 in /home/matthew/.local/lib/python3.8/site-packages (from wayback) (1.26.6)\n",
      "Requirement already satisfied: certifi>=2017.4.17 in /usr/lib/python3/dist-packages (from requests->wayback) (2019.11.28)\n",
      "Requirement already satisfied: idna<4,>=2.5; python_version >= \"3\" in /usr/lib/python3/dist-packages (from requests->wayback) (2.8)\n",
      "Requirement already satisfied: charset-normalizer~=2.0.0; python_version >= \"3\" in /home/matthew/.local/lib/python3.8/site-packages (from requests->wayback) (2.0.7)\n",
      "Installing collected packages: wayback\n",
      "Successfully installed wayback-0.3.2\n",
      "Note: you may need to restart the kernel to use updated packages.\n"
     ]
    }
   ],
   "source": [
    "%pip install wayback"
   ]
  },
  {
   "cell_type": "code",
   "execution_count": 4,
   "id": "6c1f1f13-d934-4cde-8b75-8918871a2b26",
   "metadata": {},
   "outputs": [],
   "source": [
    "from wayback import WaybackClient"
   ]
  },
  {
   "cell_type": "code",
   "execution_count": 27,
   "id": "d8bc53fc-8151-4ad9-a782-9d266d09fc85",
   "metadata": {},
   "outputs": [
    {
     "data": {
      "text/plain": [
       "49"
      ]
     },
     "execution_count": 27,
     "metadata": {},
     "output_type": "execute_result"
    }
   ],
   "source": [
    "with open('abbott.yaml', 'r') as f:\n",
    "    a = f.read()\n",
    "with open('expired-links.txt', 'r') as f:\n",
    "    expired_links = list(set(u.strip() for u in f if u.strip() and (f\"  - {url}\" in a)))\n",
    "len(expired_links)"
   ]
  },
  {
   "cell_type": "code",
   "execution_count": 28,
   "id": "177fd5c4-35e8-4513-a118-f7fda559405d",
   "metadata": {},
   "outputs": [],
   "source": [
    "client = WaybackClient()"
   ]
  },
  {
   "cell_type": "code",
   "execution_count": null,
   "id": "b4f81b9f-2134-4627-ac09-ce0cfc5e569b",
   "metadata": {},
   "outputs": [],
   "source": []
  },
  {
   "cell_type": "code",
   "execution_count": 29,
   "id": "b3f93b86-8d39-4b7b-9c56-bf6f3ed132a7",
   "metadata": {},
   "outputs": [],
   "source": [
    "def lookup(expired_url):\n",
    "    results = client.search(expired_url)\n",
    "    return next(results)\n",
    "fixup = {u: lookup(u) for u in expired_links}"
   ]
  },
  {
   "cell_type": "code",
   "execution_count": 30,
   "id": "225524d2-5d55-4069-9c59-eb41088cd10a",
   "metadata": {},
   "outputs": [
    {
     "data": {
      "text/plain": [
       "41"
      ]
     },
     "execution_count": 30,
     "metadata": {},
     "output_type": "execute_result"
    }
   ],
   "source": [
    "with open('abbott.yaml', 'r') as f:\n",
    "    y = f.read()\n",
    "ct = 0\n",
    "for (old, record) in fixup.items():\n",
    "    if record.status_code < 300:\n",
    "        y = y.replace(f'- {old}', f\"#- {old} # stale\\n  - {record.view_url}\")\n",
    "        ct += 1\n",
    "with open('abbott2.yaml', 'w') as f:\n",
    "    f.write(y)\n",
    "ct"
   ]
  },
  {
   "cell_type": "code",
   "execution_count": 18,
   "id": "edff6828-48cc-43c5-abbb-2d16d7a109a0",
   "metadata": {},
   "outputs": [
    {
     "data": {
      "text/plain": [
       "['__add__',\n",
       " '__class__',\n",
       " '__contains__',\n",
       " '__delattr__',\n",
       " '__dir__',\n",
       " '__doc__',\n",
       " '__eq__',\n",
       " '__format__',\n",
       " '__ge__',\n",
       " '__getattribute__',\n",
       " '__getitem__',\n",
       " '__getnewargs__',\n",
       " '__gt__',\n",
       " '__hash__',\n",
       " '__init__',\n",
       " '__init_subclass__',\n",
       " '__iter__',\n",
       " '__le__',\n",
       " '__len__',\n",
       " '__lt__',\n",
       " '__module__',\n",
       " '__mul__',\n",
       " '__ne__',\n",
       " '__new__',\n",
       " '__reduce__',\n",
       " '__reduce_ex__',\n",
       " '__repr__',\n",
       " '__rmul__',\n",
       " '__setattr__',\n",
       " '__sizeof__',\n",
       " '__slots__',\n",
       " '__str__',\n",
       " '__subclasshook__',\n",
       " '_asdict',\n",
       " '_field_defaults',\n",
       " '_fields',\n",
       " '_fields_defaults',\n",
       " '_make',\n",
       " '_replace',\n",
       " 'count',\n",
       " 'digest',\n",
       " 'index',\n",
       " 'key',\n",
       " 'length',\n",
       " 'mime_type',\n",
       " 'raw_url',\n",
       " 'status_code',\n",
       " 'timestamp',\n",
       " 'url',\n",
       " 'view_url']"
      ]
     },
     "execution_count": 18,
     "metadata": {},
     "output_type": "execute_result"
    }
   ],
   "source": [
    "record = next(client.search('https://www.dailytelegraph.com.au/news/nsw/audit-commission-challenges-abbott-government-on-middle-class-welfare-for-self-funded-retirees/story-fni0cx12-1226849055864'))\n",
    "dir(record)"
   ]
  },
  {
   "cell_type": "code",
   "execution_count": 19,
   "id": "34d24992-ce58-47c9-acb5-f62c4a4561b4",
   "metadata": {},
   "outputs": [
    {
     "data": {
      "text/plain": [
       "302"
      ]
     },
     "execution_count": 19,
     "metadata": {},
     "output_type": "execute_result"
    }
   ],
   "source": [
    "record.status_code"
   ]
  },
  {
   "cell_type": "code",
   "execution_count": null,
   "id": "18ef9da8-af93-409b-9775-cc2054fc31cd",
   "metadata": {},
   "outputs": [],
   "source": []
  }
 ],
 "metadata": {
  "kernelspec": {
   "display_name": "Python 3 (ipykernel)",
   "language": "python",
   "name": "python3"
  },
  "language_info": {
   "codemirror_mode": {
    "name": "ipython",
    "version": 3
   },
   "file_extension": ".py",
   "mimetype": "text/x-python",
   "name": "python",
   "nbconvert_exporter": "python",
   "pygments_lexer": "ipython3",
   "version": "3.8.10"
  }
 },
 "nbformat": 4,
 "nbformat_minor": 5
}
